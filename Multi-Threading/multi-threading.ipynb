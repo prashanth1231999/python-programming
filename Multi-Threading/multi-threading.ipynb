{
 "cells": [
  {
   "cell_type": "code",
   "execution_count": 15,
   "id": "5e79ea6f",
   "metadata": {},
   "outputs": [],
   "source": [
    "## multi threding libs\n",
    "from concurrent.futures import ThreadPoolExecutor\n",
    "import concurrent.futures\n",
    "import threading # <-- import threading to get thread names\n",
    "\n",
    "## misc libs\n",
    "import time"
   ]
  },
  {
   "cell_type": "code",
   "execution_count": 16,
   "id": "7840996c",
   "metadata": {},
   "outputs": [],
   "source": [
    "def test_function(string):\n",
    "    thread_name = threading.current_thread().name\n",
    "    print(f\"[{thread_name}] started processing {string}\")\n",
    "    for i in range(10):\n",
    "        print(f\"[{thread_name}] *\")\n",
    "        time.sleep(1)\n",
    "    print(f\"[{thread_name}] {string} completed\")\n",
    "    return f\"{string} -> PASS\""
   ]
  },
  {
   "cell_type": "code",
   "execution_count": 17,
   "id": "7d48ba7d",
   "metadata": {},
   "outputs": [
    {
     "name": "stdout",
     "output_type": "stream",
     "text": [
      "[ThreadPoolExecutor-4_0] started processing Record number - 1\n",
      "[ThreadPoolExecutor-4_0] *\n",
      "[ThreadPoolExecutor-4_1] started processing Record number - 2\n",
      "[ThreadPoolExecutor-4_1] *\n",
      "[ThreadPoolExecutor-4_2] started processing Record number - 3\n",
      "[ThreadPoolExecutor-4_2] *\n",
      "[ThreadPoolExecutor-4_3] started processing Record number - 4\n",
      "[ThreadPoolExecutor-4_3] *\n",
      "[ThreadPoolExecutor-4_2] *[ThreadPoolExecutor-4_0] *\n",
      "\n",
      "[ThreadPoolExecutor-4_1] *\n",
      "[ThreadPoolExecutor-4_3] *\n",
      "[ThreadPoolExecutor-4_3] *\n",
      "[ThreadPoolExecutor-4_2] *\n",
      "[ThreadPoolExecutor-4_1] *\n",
      "[ThreadPoolExecutor-4_0] *\n",
      "[ThreadPoolExecutor-4_2] *[ThreadPoolExecutor-4_1] *\n",
      "[ThreadPoolExecutor-4_0] *\n",
      "[ThreadPoolExecutor-4_3] *\n",
      "\n",
      "[ThreadPoolExecutor-4_0] *[ThreadPoolExecutor-4_1] *\n",
      "\n",
      "[ThreadPoolExecutor-4_2] *\n",
      "[ThreadPoolExecutor-4_3] *\n",
      "[ThreadPoolExecutor-4_0] Record number - 1 completed[ThreadPoolExecutor-4_1] Record number - 2 completed\n",
      "[ThreadPoolExecutor-4_1] started processing Record number - 5\n",
      "[ThreadPoolExecutor-4_1] *\n",
      "\n",
      "Task Completed: Record number - 2 -> PASS\n",
      "Task Completed: Record number - 1 -> PASS\n",
      "[ThreadPoolExecutor-4_2] Record number - 3 completed\n",
      "[ThreadPoolExecutor-4_3] Record number - 4 completed\n",
      "Task Completed: Record number - 3 -> PASS\n",
      "Task Completed: Record number - 4 -> PASS\n",
      "[ThreadPoolExecutor-4_1] *\n",
      "[ThreadPoolExecutor-4_1] *\n",
      "[ThreadPoolExecutor-4_1] *\n",
      "[ThreadPoolExecutor-4_1] *\n",
      "[ThreadPoolExecutor-4_1] Record number - 5 completed\n",
      "Task Completed: Record number - 5 -> PASS\n"
     ]
    }
   ],
   "source": [
    "from concurrent.futures import ThreadPoolExecutor\n",
    "import concurrent.futures\n",
    "import time\n",
    "import threading  # <-- import threading to get thread names\n",
    "\n",
    "\n",
    "\n",
    "with ThreadPoolExecutor(max_workers=4) as executor:\n",
    "    futures = [\n",
    "        executor.submit(test_function, f\"Record number - {i+1}\")\n",
    "        for i in range(5)\n",
    "    ]\n",
    "    \n",
    "    for future in concurrent.futures.as_completed(futures):\n",
    "        try:\n",
    "            result = future.result()\n",
    "            print(f\"Task Completed: {result}\")\n",
    "        except Exception as e:\n",
    "            print(f\"Task failed with exception: {e}\")\n"
   ]
  },
  {
   "cell_type": "code",
   "execution_count": null,
   "id": "26f924cc",
   "metadata": {},
   "outputs": [],
   "source": []
  },
  {
   "cell_type": "code",
   "execution_count": null,
   "id": "c69d1e4a",
   "metadata": {},
   "outputs": [],
   "source": []
  },
  {
   "cell_type": "code",
   "execution_count": null,
   "id": "3fa9068b",
   "metadata": {},
   "outputs": [],
   "source": []
  },
  {
   "cell_type": "code",
   "execution_count": null,
   "id": "901c412e",
   "metadata": {},
   "outputs": [],
   "source": []
  }
 ],
 "metadata": {
  "kernelspec": {
   "display_name": "Python 3 (ipykernel)",
   "language": "python",
   "name": "python3"
  },
  "language_info": {
   "codemirror_mode": {
    "name": "ipython",
    "version": 3
   },
   "file_extension": ".py",
   "mimetype": "text/x-python",
   "name": "python",
   "nbconvert_exporter": "python",
   "pygments_lexer": "ipython3",
   "version": "3.10.9"
  }
 },
 "nbformat": 4,
 "nbformat_minor": 5
}
